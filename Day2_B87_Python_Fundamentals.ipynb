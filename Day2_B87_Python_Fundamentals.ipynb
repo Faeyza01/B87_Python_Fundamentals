{
 "cells": [
  {
   "cell_type": "code",
   "execution_count": null,
   "id": "e7398e8a-5f1d-46b8-b3d4-9f5f275090fd",
   "metadata": {},
   "outputs": [],
   "source": []
  },
  {
   "cell_type": "code",
   "execution_count": 2,
   "id": "2311129a-e436-4a03-9471-12bd0736fe71",
   "metadata": {},
   "outputs": [
    {
     "ename": "SyntaxError",
     "evalue": "invalid syntax (1869873550.py, line 1)",
     "output_type": "error",
     "traceback": [
      "\u001b[1;36m  Cell \u001b[1;32mIn[2], line 1\u001b[1;36m\u001b[0m\n\u001b[1;33m    Introduction to datatypes in python :\u001b[0m\n\u001b[1;37m                 ^\u001b[0m\n\u001b[1;31mSyntaxError\u001b[0m\u001b[1;31m:\u001b[0m invalid syntax\n"
     ]
    }
   ],
   "source": [
    "Introduction to datatypes in python :"
   ]
  },
  {
   "cell_type": "code",
   "execution_count": 3,
   "id": "122e42de-4f26-4d91-97fe-d57b86f4d729",
   "metadata": {},
   "outputs": [],
   "source": [
    "#Introduction to datatypes in python :"
   ]
  },
  {
   "cell_type": "code",
   "execution_count": null,
   "id": "4e273de9-ead6-4244-b8a5-54d712762b48",
   "metadata": {},
   "outputs": [],
   "source": [
    "1. strings ====== str \n",
    "2. numbers ====== integers ===== int and floats ==== float (decimal ===== 0.1, 0.2)\n",
    "3. lists ===== list\n",
    "4. tuples ===== tuple\n",
    "5. dictionaries ===== dict"
   ]
  },
  {
   "cell_type": "code",
   "execution_count": null,
   "id": "6ebcb5a0-7b4c-4b3f-9939-5acc4305e0c0",
   "metadata": {},
   "outputs": [],
   "source": [
    " Note : python is a case sensitive programming language."
   ]
  },
  {
   "cell_type": "code",
   "execution_count": null,
   "id": "e49d11a1-4999-4352-8a47-dea1db86562f",
   "metadata": {},
   "outputs": [],
   "source": []
  },
  {
   "cell_type": "code",
   "execution_count": null,
   "id": "3b2921d2-39d7-4f05-8f2c-109c884a1a7f",
   "metadata": {},
   "outputs": [],
   "source": [
    "classification of datatypes in python:"
   ]
  },
  {
   "cell_type": "code",
   "execution_count": null,
   "id": "68299af8-6c20-4786-8b05-a4f954b3c85c",
   "metadata": {},
   "outputs": [],
   "source": [
    "Broadly datatypes are classified into 2 different categories:\n",
    "1. mutable datatypes ===== which we can edit/ alter ===== flexible in nature\n",
    "2. immutable datatypes ===== which we cannot edit or alter ===== fixed in nature"
   ]
  },
  {
   "cell_type": "code",
   "execution_count": null,
   "id": "692c155f-e935-4c6f-a06a-891d18eac95f",
   "metadata": {},
   "outputs": [],
   "source": [
    "Introduction to string datatype\n",
    "Defination: A string is a series of characters declared in quotes.\n",
    "Classification: It is classified as an immutable datatype."
   ]
  },
  {
   "cell_type": "code",
   "execution_count": null,
   "id": "8a572983-7fdd-4cc6-b607-0411589d701c",
   "metadata": {},
   "outputs": [],
   "source": [
    "How to declare the String datatype?\n",
    "There are 2 approaches\n",
    "1. Single Quote\n",
    "2. Double Quote\n"
   ]
  },
  {
   "cell_type": "code",
   "execution_count": 4,
   "id": "2ebf5123-9ee1-4df3-886e-12e79aabc5b6",
   "metadata": {},
   "outputs": [
    {
     "name": "stdout",
     "output_type": "stream",
     "text": [
      "joseph\n"
     ]
    }
   ],
   "source": [
    "name = 'joseph'   #this is single quote\n",
    "print (name)"
   ]
  },
  {
   "cell_type": "code",
   "execution_count": 5,
   "id": "ccc68cd7-4c83-4f07-88b0-981d5cf09f52",
   "metadata": {},
   "outputs": [
    {
     "name": "stdout",
     "output_type": "stream",
     "text": [
      "kavya\n"
     ]
    }
   ],
   "source": [
    "name2 = \"kavya\"    #this is double quote\n",
    "print(name2)"
   ]
  },
  {
   "cell_type": "code",
   "execution_count": null,
   "id": "2db9b1b8-79f6-49c1-9c5b-fba9a9b4812f",
   "metadata": {},
   "outputs": [],
   "source": [
    "Introduction to string methods:"
   ]
  },
  {
   "cell_type": "code",
   "execution_count": 6,
   "id": "eba8794d-1523-4179-9350-55d846501dec",
   "metadata": {},
   "outputs": [
    {
     "data": {
      "text/plain": [
       "str"
      ]
     },
     "execution_count": 6,
     "metadata": {},
     "output_type": "execute_result"
    }
   ],
   "source": [
    "type(name)"
   ]
  },
  {
   "cell_type": "code",
   "execution_count": 7,
   "id": "a10bc7fa-8f14-48d9-b473-5196eb861cb7",
   "metadata": {},
   "outputs": [
    {
     "data": {
      "text/plain": [
       "str"
      ]
     },
     "execution_count": 7,
     "metadata": {},
     "output_type": "execute_result"
    }
   ],
   "source": [
    "type (name2)"
   ]
  },
  {
   "cell_type": "code",
   "execution_count": 8,
   "id": "d9acda31-e4f7-4936-ae84-f4cd023a20ce",
   "metadata": {},
   "outputs": [
    {
     "name": "stdout",
     "output_type": "stream",
     "text": [
      "zeba ansari\n"
     ]
    }
   ],
   "source": [
    "fullname = 'zeba ansari'\n",
    "print (fullname)"
   ]
  },
  {
   "cell_type": "code",
   "execution_count": 9,
   "id": "a4db073a-2d2c-4d0c-8e7c-ffffa3ad57b3",
   "metadata": {},
   "outputs": [],
   "source": [
    "#req: to correct the format , capital letters for names"
   ]
  },
  {
   "cell_type": "code",
   "execution_count": 10,
   "id": "8a1b45d7-7cc3-4232-bc60-daf0d1de163c",
   "metadata": {},
   "outputs": [
    {
     "name": "stdout",
     "output_type": "stream",
     "text": [
      "Zeba Ansari\n"
     ]
    }
   ],
   "source": [
    "print (fullname.title())"
   ]
  },
  {
   "cell_type": "code",
   "execution_count": 11,
   "id": "a7db0eb9-0d81-47fb-a7de-ff0ca05311e0",
   "metadata": {},
   "outputs": [],
   "source": [
    "# req : I want the entire name in capitals"
   ]
  },
  {
   "cell_type": "code",
   "execution_count": 12,
   "id": "8d4bb2c1-2892-40a2-9394-0d4bde4e6972",
   "metadata": {},
   "outputs": [
    {
     "name": "stdout",
     "output_type": "stream",
     "text": [
      "ZEBA ANSARI\n"
     ]
    }
   ],
   "source": [
    "print (fullname.upper())"
   ]
  },
  {
   "cell_type": "code",
   "execution_count": 13,
   "id": "9d4415da-dfaf-42ed-ba46-1e2f5de504a8",
   "metadata": {},
   "outputs": [],
   "source": [
    "# req : I want the entire name in small case letters"
   ]
  },
  {
   "cell_type": "code",
   "execution_count": 14,
   "id": "3d32428f-74e2-4afd-8460-4c2bb4f84ec3",
   "metadata": {},
   "outputs": [
    {
     "name": "stdout",
     "output_type": "stream",
     "text": [
      "zeba ansari\n"
     ]
    }
   ],
   "source": [
    "print (fullname.lower())"
   ]
  },
  {
   "cell_type": "code",
   "execution_count": null,
   "id": "35e09e1e-8df2-426a-a7a7-458fcdd5e723",
   "metadata": {},
   "outputs": [],
   "source": [
    "\n"
   ]
  },
  {
   "cell_type": "code",
   "execution_count": null,
   "id": "a8c64281-6791-4919-93a5-41193c4400c9",
   "metadata": {},
   "outputs": [],
   "source": []
  },
  {
   "cell_type": "code",
   "execution_count": null,
   "id": "be843692-127d-45f7-b0ec-273ab5f58e0e",
   "metadata": {},
   "outputs": [],
   "source": [
    "Introduction to Python Programming :"
   ]
  },
  {
   "cell_type": "code",
   "execution_count": null,
   "id": "a401a98c-d135-44c6-8daa-dc6ff320154c",
   "metadata": {},
   "outputs": [],
   "source": []
  },
  {
   "cell_type": "code",
   "execution_count": 15,
   "id": "1d296d01-2e0f-490e-a7d5-6d5a3d3c9330",
   "metadata": {},
   "outputs": [],
   "source": [
    "#Understanding the variables in Python:"
   ]
  },
  {
   "cell_type": "code",
   "execution_count": 24,
   "id": "f2af3b75-93f0-41c2-ab39-4b5d92f16d4a",
   "metadata": {},
   "outputs": [
    {
     "name": "stdout",
     "output_type": "stream",
     "text": [
      "5\n"
     ]
    }
   ],
   "source": [
    "x = 2 \n",
    "y = 3\n",
    "\n",
    "z = x+y\n",
    "\n",
    "print(z)"
   ]
  },
  {
   "cell_type": "code",
   "execution_count": 25,
   "id": "a7d97eda-ec55-488d-b8cc-67836425bd04",
   "metadata": {},
   "outputs": [
    {
     "name": "stdout",
     "output_type": "stream",
     "text": [
      "5\n"
     ]
    }
   ],
   "source": [
    "print(z)"
   ]
  },
  {
   "cell_type": "code",
   "execution_count": null,
   "id": "f1f36c4f-00e0-4369-8a80-17fdf3c85f71",
   "metadata": {},
   "outputs": [],
   "source": [
    "Rules for declaring the variables in python"
   ]
  },
  {
   "cell_type": "code",
   "execution_count": null,
   "id": "28468f68-a250-4de7-a644-27ee3e96baa5",
   "metadata": {},
   "outputs": [],
   "source": [
    "Rule No 1: No Namespaces while declaring the variable names in Python"
   ]
  },
  {
   "cell_type": "code",
   "execution_count": 28,
   "id": "75094dca-c5bc-4895-85ce-736489e0a4da",
   "metadata": {},
   "outputs": [
    {
     "ename": "SyntaxError",
     "evalue": "invalid syntax (1015647185.py, line 1)",
     "output_type": "error",
     "traceback": [
      "\u001b[1;36m  Cell \u001b[1;32mIn[28], line 1\u001b[1;36m\u001b[0m\n\u001b[1;33m    first name = 'Faiyaz'\u001b[0m\n\u001b[1;37m          ^\u001b[0m\n\u001b[1;31mSyntaxError\u001b[0m\u001b[1;31m:\u001b[0m invalid syntax\n"
     ]
    }
   ],
   "source": [
    " first name = 'Faiyaz'\n",
    "\n",
    "print(first name)\n"
   ]
  },
  {
   "cell_type": "code",
   "execution_count": 29,
   "id": "08600d42-5c70-4666-96c8-82a55497056b",
   "metadata": {},
   "outputs": [
    {
     "ename": "SyntaxError",
     "evalue": "invalid syntax (3676109549.py, line 1)",
     "output_type": "error",
     "traceback": [
      "\u001b[1;36m  Cell \u001b[1;32mIn[29], line 1\u001b[1;36m\u001b[0m\n\u001b[1;33m    first name = 'Faiyaz'\u001b[0m\n\u001b[1;37m          ^\u001b[0m\n\u001b[1;31mSyntaxError\u001b[0m\u001b[1;31m:\u001b[0m invalid syntax\n"
     ]
    }
   ],
   "source": [
    "first name = 'Faiyaz'\n",
    "\n",
    "print(firstname)\n"
   ]
  },
  {
   "cell_type": "code",
   "execution_count": 30,
   "id": "b22b1726-c592-4c1e-a825-2103d7f24591",
   "metadata": {},
   "outputs": [
    {
     "name": "stdout",
     "output_type": "stream",
     "text": [
      "Faiyaz\n"
     ]
    }
   ],
   "source": [
    "firstname = 'Faiyaz'\n",
    "\n",
    "print(firstname)\n"
   ]
  },
  {
   "cell_type": "code",
   "execution_count": null,
   "id": "f49c56bb-0632-4955-ab6e-64d6be756815",
   "metadata": {},
   "outputs": [],
   "source": [
    "Important Rule: there are no spaces while declaring variables"
   ]
  },
  {
   "cell_type": "code",
   "execution_count": null,
   "id": "8149621a-dc4b-46d4-adba-c3d01f48c96b",
   "metadata": {},
   "outputs": [],
   "source": [
    "Rule No 2: A variable name should not start with a number"
   ]
  },
  {
   "cell_type": "code",
   "execution_count": 34,
   "id": "08cee023-c27a-41de-84c1-d40d1cc67a51",
   "metadata": {},
   "outputs": [
    {
     "ename": "SyntaxError",
     "evalue": "invalid decimal literal (1410008898.py, line 1)",
     "output_type": "error",
     "traceback": [
      "\u001b[1;36m  Cell \u001b[1;32mIn[34], line 1\u001b[1;36m\u001b[0m\n\u001b[1;33m    1name = 'karthik'\u001b[0m\n\u001b[1;37m    ^\u001b[0m\n\u001b[1;31mSyntaxError\u001b[0m\u001b[1;31m:\u001b[0m invalid decimal literal\n"
     ]
    }
   ],
   "source": [
    "1name = 'karthik'\n",
    "print(1name)"
   ]
  },
  {
   "cell_type": "code",
   "execution_count": 35,
   "id": "22618075-096b-4fa5-884e-7e17312b8c6f",
   "metadata": {},
   "outputs": [
    {
     "name": "stdout",
     "output_type": "stream",
     "text": [
      "karthik\n"
     ]
    }
   ],
   "source": [
    "name1 = 'karthik'\n",
    "print(name1)"
   ]
  },
  {
   "cell_type": "code",
   "execution_count": null,
   "id": "52046eb3-3d0c-49e2-86dc-c55369e44ec1",
   "metadata": {},
   "outputs": [],
   "source": [
    "Rule No3: A variable should not contain any special characters.\n",
    "@#$%^&*\n"
   ]
  },
  {
   "cell_type": "code",
   "execution_count": 37,
   "id": "d43bb1d9-abfc-44a0-92c2-1e08cee697fd",
   "metadata": {},
   "outputs": [
    {
     "ename": "SyntaxError",
     "evalue": "invalid syntax (367995000.py, line 1)",
     "output_type": "error",
     "traceback": [
      "\u001b[1;36m  Cell \u001b[1;32mIn[37], line 1\u001b[1;36m\u001b[0m\n\u001b[1;33m    name@ = \"deepak\"\u001b[0m\n\u001b[1;37m          ^\u001b[0m\n\u001b[1;31mSyntaxError\u001b[0m\u001b[1;31m:\u001b[0m invalid syntax\n"
     ]
    }
   ],
   "source": [
    "name@ = \"deepak\"\n",
    "print(name@)"
   ]
  },
  {
   "cell_type": "code",
   "execution_count": 38,
   "id": "4c3bc157-0498-42a0-8852-78054595510c",
   "metadata": {},
   "outputs": [
    {
     "name": "stdout",
     "output_type": "stream",
     "text": [
      "deepak\n"
     ]
    }
   ],
   "source": [
    "name = \"deepak\"\n",
    "print(name)"
   ]
  },
  {
   "cell_type": "code",
   "execution_count": null,
   "id": "8ddec680-2ab7-4578-85ef-ad9f0ed74759",
   "metadata": {},
   "outputs": [],
   "source": []
  }
 ],
 "metadata": {
  "kernelspec": {
   "display_name": "Python [conda env:base] *",
   "language": "python",
   "name": "conda-base-py"
  },
  "language_info": {
   "codemirror_mode": {
    "name": "ipython",
    "version": 3
   },
   "file_extension": ".py",
   "mimetype": "text/x-python",
   "name": "python",
   "nbconvert_exporter": "python",
   "pygments_lexer": "ipython3",
   "version": "3.13.5"
  }
 },
 "nbformat": 4,
 "nbformat_minor": 5
}
